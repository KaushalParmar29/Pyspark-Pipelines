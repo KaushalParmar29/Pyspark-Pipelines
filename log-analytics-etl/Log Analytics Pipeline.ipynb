{
 "cells": [
  {
   "cell_type": "code",
   "execution_count": 0,
   "metadata": {
    "application/vnd.databricks.v1+cell": {
     "cellMetadata": {
      "byteLimit": 2048000,
      "rowLimit": 10000
     },
     "inputWidgets": {},
     "nuid": "f71e1562-0092-45a0-bbb7-ce30ce27573b",
     "showTitle": false,
     "tableResultSettingsMap": {},
     "title": ""
    }
   },
   "outputs": [],
   "source": [
    "from pyspark.sql.functions import *\n",
    "\n",
    "# Load logs\n",
    "df = spark.read.option(\"multiline\", \"true\").json(\"dbfs:/FileStore/logs.json\")\n",
    "\n",
    "# Convert timestamp to date\n",
    "df = df.withColumn(\"date\", to_date(\"timestamp\"))\n",
    "\n",
    "# Filter only ERROR and WARN logs\n",
    "filtered_df = df.filter(col(\"level\").isin(\"ERROR\", \"WARN\"))\n",
    "\n",
    "# Count logs per module\n",
    "logs_by_module = filtered_df.groupBy(\"module\").agg(count(\"*\").alias(\"log_count\"))\n",
    "\n",
    "# Count logs per day per level\n",
    "logs_by_day_level = filtered_df.groupBy(\"date\", \"level\").agg(count(\"*\").alias(\"count\"))\n",
    "\n",
    "# Save output\n",
    "logs_by_module.write.format(\"delta\").mode(\"overwrite\").save(\"dbfs:/mnt/data/logs_by_module\")\n",
    "logs_by_day_level.write.format(\"delta\").mode(\"overwrite\").save(\"dbfs:/mnt/data/logs_by_day_level\")\n",
    "\n"
   ]
  }
 ],
 "metadata": {
  "application/vnd.databricks.v1+notebook": {
   "computePreferences": null,
   "dashboards": [],
   "environmentMetadata": {
    "base_environment": "",
    "environment_version": "1"
   },
   "inputWidgetPreferences": null,
   "language": "python",
   "notebookMetadata": {
    "pythonIndentUnit": 4
   },
   "notebookName": "Log Analytics Pipeline",
   "widgets": {}
  }
 },
 "nbformat": 4,
 "nbformat_minor": 0
}