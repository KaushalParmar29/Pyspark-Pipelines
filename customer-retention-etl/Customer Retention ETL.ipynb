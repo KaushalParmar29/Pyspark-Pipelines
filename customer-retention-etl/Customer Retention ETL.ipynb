{
 "cells": [
  {
   "cell_type": "code",
   "execution_count": 0,
   "metadata": {
    "application/vnd.databricks.v1+cell": {
     "cellMetadata": {},
     "inputWidgets": {},
     "nuid": "32d9ed3f-7ee1-4c9c-8e74-dc12002240fb",
     "showTitle": false,
     "tableResultSettingsMap": {},
     "title": ""
    }
   },
   "outputs": [],
   "source": [
    "from pyspark.sql.functions import *\n",
    "from pyspark.sql.window import Window\n",
    "\n",
    "# Step 1: Load Data\n",
    "cust_df = spark.read.option(\"header\", True).csv(\"dbfs:/FileStore/customers.csv\")\n",
    "txn_df = spark.read.option(\"header\", True).csv(\"dbfs:/FileStore/transactions.csv\")\n",
    "\n",
    "# Step 2: Cast dates and amounts\n",
    "cust_df = cust_df.withColumn(\"signup_date\", to_date(\"signup_date\"))\n",
    "txn_df = txn_df.withColumn(\"transaction_date\", to_date(\"transaction_date\")) \\\n",
    "               .withColumn(\"amount\", col(\"amount\").cast(\"int\"))\n",
    "\n",
    "# Step 3: Join customers with their transactions\n",
    "df = cust_df.join(txn_df, on=\"customer_id\", how=\"left\")\n",
    "\n",
    "# Step 4: Find last transaction per customer\n",
    "window_spec = Window.partitionBy(\"customer_id\").orderBy(desc(\"transaction_date\"))\n",
    "df = df.withColumn(\"rank\", row_number().over(window_spec))\n",
    "df_last_txn = df.filter(col(\"rank\") == 1)\n",
    "\n",
    "# Step 5: Calculate days since last transaction\n",
    "df_last_txn = df_last_txn.withColumn(\n",
    "    \"days_since_last_txn\",\n",
    "    datediff(current_date(), col(\"transaction_date\"))\n",
    ")\n",
    "\n",
    "# Step 6: Label customer status\n",
    "df_final = df_last_txn.withColumn(\n",
    "    \"customer_status\",\n",
    "    when(col(\"days_since_last_txn\") <= 30, \"Active\")\n",
    "    .when((col(\"days_since_last_txn\") > 30) & (col(\"days_since_last_txn\") <= 180), \"Dormant\")\n",
    "    .when(col(\"days_since_last_txn\") > 180, \"Churn Risk\")\n",
    "    .otherwise(\"No Transactions\")\n",
    ")\n",
    "\n",
    "# Step 7: Monthly Active Users\n",
    "monthly_active_df = txn_df.withColumn(\"month\", trunc(\"transaction_date\", \"month\")) \\\n",
    "    .groupBy(\"month\") \\\n",
    "    .agg(countDistinct(\"customer_id\").alias(\"monthly_active_users\")) \\\n",
    "    .orderBy(\"month\")\n",
    "\n",
    "# Step 8: Save to Delta\n",
    "df_final.write.format(\"delta\").mode(\"overwrite\").save(\"dbfs:/mnt/data/customer_status\")\n",
    "monthly_active_df.write.format(\"delta\").mode(\"overwrite\").save(\"dbfs:/mnt/data/monthly_active_users\")\n"
   ]
  }
 ],
 "metadata": {
  "application/vnd.databricks.v1+notebook": {
   "computePreferences": null,
   "dashboards": [],
   "environmentMetadata": {
    "base_environment": "",
    "environment_version": "1"
   },
   "inputWidgetPreferences": null,
   "language": "python",
   "notebookMetadata": {
    "pythonIndentUnit": 4
   },
   "notebookName": "Customer Retention ETL",
   "widgets": {}
  }
 },
 "nbformat": 4,
 "nbformat_minor": 0
}