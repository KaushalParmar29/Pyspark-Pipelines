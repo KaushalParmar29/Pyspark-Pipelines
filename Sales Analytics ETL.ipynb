{
 "cells": [
  {
   "cell_type": "code",
   "execution_count": 0,
   "metadata": {
    "application/vnd.databricks.v1+cell": {
     "cellMetadata": {},
     "inputWidgets": {},
     "nuid": "c73abcf6-3888-45ef-8390-bb72d0a61f6f",
     "showTitle": false,
     "tableResultSettingsMap": {},
     "title": ""
    }
   },
   "outputs": [],
   "source": [
    "from pyspark.sql.functions import *\n",
    "\n",
    "# STEP 1: Load Data\n",
    "sales_df = spark.read.option(\"header\", True).csv(\"dbfs:/FileStore/sales.csv\")\n",
    "products_df = spark.read.option(\"header\", True).csv(\"dbfs:/FileStore/products.csv\")\n",
    "\n",
    "# STEP 2: Cast numeric columns to correct types\n",
    "sales_df = sales_df.withColumn(\"quantity\", col(\"quantity\").cast(\"int\")) \\\n",
    "                   .withColumn(\"price\", col(\"price\").cast(\"int\")) \\\n",
    "                   .withColumn(\"order_date\", to_date(\"order_date\"))\n",
    "\n",
    "# STEP 3: Calculate total amount\n",
    "sales_df = sales_df.withColumn(\"total_amount\", col(\"quantity\") * col(\"price\"))\n",
    "\n",
    "# STEP 4: Extract month name\n",
    "sales_df = sales_df.withColumn(\"month\", date_format(\"order_date\", \"MMMM\"))\n",
    "\n",
    "# STEP 5: Join with products\n",
    "df = sales_df.join(products_df, on=\"product_id\", how=\"left\")\n",
    "\n",
    "# STEP 6: Revenue by Month\n",
    "revenue_by_month = df.groupBy(\"month\").agg(round(sum(\"total_amount\"), 2).alias(\"monthly_revenue\"))\n",
    "\n",
    "# STEP 7: Revenue by Category\n",
    "revenue_by_category = df.groupBy(\"category\").agg(round(sum(\"total_amount\"), 2).alias(\"category_revenue\"))\n",
    "\n",
    "# STEP 8: Top 2 Products per Region\n",
    "product_sales = df.groupBy(\"product_name\", \"region\").agg(sum(\"total_amount\").alias(\"total_sales\"))\n",
    "\n",
    "from pyspark.sql.window import Window\n",
    "windowSpec = Window.partitionBy(\"region\").orderBy(desc(\"total_sales\"))\n",
    "\n",
    "top_products = product_sales.withColumn(\"rank\", row_number().over(windowSpec)) \\\n",
    "                            .filter(col(\"rank\") <= 2)\n",
    "\n",
    "# STEP 9: Save Cleaned Data as Delta Table\n",
    "df.write.format(\"delta\").mode(\"overwrite\").save(\"dbfs:/mnt/data/sales_analytics_cleaned\")\n"
   ]
  }
 ],
 "metadata": {
  "application/vnd.databricks.v1+notebook": {
   "computePreferences": null,
   "dashboards": [],
   "environmentMetadata": {
    "base_environment": "",
    "environment_version": "1"
   },
   "inputWidgetPreferences": null,
   "language": "python",
   "notebookMetadata": {
    "pythonIndentUnit": 4
   },
   "notebookName": "Sales Analytics ETL",
   "widgets": {}
  }
 },
 "nbformat": 4,
 "nbformat_minor": 0
}