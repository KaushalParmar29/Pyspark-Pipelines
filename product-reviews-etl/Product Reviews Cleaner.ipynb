{
 "cells": [
  {
   "cell_type": "code",
   "execution_count": 0,
   "metadata": {
    "application/vnd.databricks.v1+cell": {
     "cellMetadata": {},
     "inputWidgets": {},
     "nuid": "f62484d8-4630-498a-adeb-8d0b742a30f3",
     "showTitle": false,
     "tableResultSettingsMap": {},
     "title": ""
    }
   },
   "outputs": [],
   "source": [
    "from pyspark.sql.functions import *\n",
    "\n",
    "# Load CSV\n",
    "df = spark.read.option(\"header\", True).csv(\"dbfs:/FileStore/reviews.csv\")\n",
    "\n",
    "# Clean text\n",
    "df = df.withColumn(\"clean_review\", lower(regexp_replace(\"review_text\", \"[^a-zA-Z0-9 ]\", \"\")))\n",
    "\n",
    "# Count number of words\n",
    "df = df.withColumn(\"review_length\", size(split(\"clean_review\", \" \")))\n",
    "\n",
    "# Filter bad reviews\n",
    "df_clean = df.filter((col(\"rating\") >= 3) & (col(\"review_length\") >= 3))\n",
    "\n",
    "# Aggregations\n",
    "top_products = df_clean.groupBy(\"product_id\").agg(count(\"*\").alias(\"review_count\"), avg(\"rating\").alias(\"avg_rating\"))\n",
    "top_users = df_clean.groupBy(\"user_id\").count().orderBy(desc(\"count\"))\n",
    "\n",
    "# Save output\n",
    "df_clean.write.format(\"delta\").mode(\"overwrite\").save(\"dbfs:/mnt/data/clean_reviews\")\n"
   ]
  }
 ],
 "metadata": {
  "application/vnd.databricks.v1+notebook": {
   "computePreferences": null,
   "dashboards": [],
   "environmentMetadata": {
    "base_environment": "",
    "environment_version": "1"
   },
   "inputWidgetPreferences": null,
   "language": "python",
   "notebookMetadata": {
    "pythonIndentUnit": 4
   },
   "notebookName": "Product Reviews Cleaner",
   "widgets": {}
  }
 },
 "nbformat": 4,
 "nbformat_minor": 0
}