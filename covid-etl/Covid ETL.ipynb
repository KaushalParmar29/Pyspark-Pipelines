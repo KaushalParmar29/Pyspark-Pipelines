{
 "cells": [
  {
   "cell_type": "code",
   "execution_count": 0,
   "metadata": {
    "application/vnd.databricks.v1+cell": {
     "cellMetadata": {},
     "inputWidgets": {},
     "nuid": "9f47618a-44ba-449a-a353-86555bef2024",
     "showTitle": false,
     "tableResultSettingsMap": {},
     "title": ""
    }
   },
   "outputs": [],
   "source": [
    "# Load data\n",
    "cases = spark.read.option(\"header\", True).csv(\"dbfs:/FileStore/covid_cases.csv\")\n",
    "pop = spark.read.option(\"header\", True).csv(\"dbfs:/FileStore/population.csv\")\n",
    "\n",
    "# Convert types\n",
    "cases = cases.withColumn(\"new_cases\", col(\"new_cases\").cast(\"int\")) \\\n",
    "             .withColumn(\"date\", to_date(\"date\"))\n",
    "\n",
    "pop = pop.withColumn(\"population\", col(\"population\").cast(\"int\"))\n",
    "\n",
    "# Join\n",
    "df = cases.join(pop, on=\"state\", how=\"left\")\n",
    "\n",
    "# Calculate cases per 100K people\n",
    "df = df.withColumn(\"cases_per_100k\", (col(\"new_cases\") / col(\"population\")) * 100000)\n",
    "\n",
    "# Save to Delta\n",
    "df.write.format(\"delta\").mode(\"overwrite\").save(\"dbfs:/mnt/data/covid_analysis\")\n"
   ]
  }
 ],
 "metadata": {
  "application/vnd.databricks.v1+notebook": {
   "computePreferences": null,
   "dashboards": [],
   "environmentMetadata": {
    "base_environment": "",
    "environment_version": "1"
   },
   "inputWidgetPreferences": null,
   "language": "python",
   "notebookMetadata": {
    "pythonIndentUnit": 4
   },
   "notebookName": "Covid ETL",
   "widgets": {}
  }
 },
 "nbformat": 4,
 "nbformat_minor": 0
}